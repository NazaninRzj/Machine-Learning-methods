{
 "cells": [
  {
   "cell_type": "markdown",
   "id": "british-heath",
   "metadata": {},
   "source": [
    "## This example is from Kaggle\n",
    "https://www.kaggle.com/amolbhivarkar/knn-for-classification-using-scikit-learn/notebook\n",
    "### Here I am using Scikit Learn learning library to build machine learning model using k-Nearest Neighbors algorithm to predict whether the pationts in the \"Pima Indians Diabetes Dataset\" have diabetes or not"
   ]
  },
  {
   "cell_type": "code",
   "execution_count": 1,
   "id": "deadly-fifth",
   "metadata": {},
   "outputs": [],
   "source": [
    "import numpy as np\n",
    "import pandas as pd\n",
    "import matplotlib.pyplot as plt\n",
    "from sklearn.model_selection import train_test_split, StratifiedKFold, GridSearchCV\n",
    "from sklearn.neighbors import KNeighborsClassifier\n",
    "from sklearn.preprocessing import StandardScaler, MinMaxScaler\n",
    "from sklearn.metrics import confusion_matrix, accuracy_score, classification_report, plot_roc_curve, auc, roc_curve\n",
    "import seaborn as sns"
   ]
  },
  {
   "cell_type": "code",
   "execution_count": 2,
   "id": "involved-christmas",
   "metadata": {},
   "outputs": [
    {
     "data": {
      "text/html": [
       "<div>\n",
       "<style scoped>\n",
       "    .dataframe tbody tr th:only-of-type {\n",
       "        vertical-align: middle;\n",
       "    }\n",
       "\n",
       "    .dataframe tbody tr th {\n",
       "        vertical-align: top;\n",
       "    }\n",
       "\n",
       "    .dataframe thead th {\n",
       "        text-align: right;\n",
       "    }\n",
       "</style>\n",
       "<table border=\"1\" class=\"dataframe\">\n",
       "  <thead>\n",
       "    <tr style=\"text-align: right;\">\n",
       "      <th></th>\n",
       "      <th>Pregnancies</th>\n",
       "      <th>Glucose</th>\n",
       "      <th>BloodPressure</th>\n",
       "      <th>SkinThickness</th>\n",
       "      <th>Insulin</th>\n",
       "      <th>BMI</th>\n",
       "      <th>DiabetesPedigreeFunction</th>\n",
       "      <th>Age</th>\n",
       "      <th>Outcome</th>\n",
       "    </tr>\n",
       "  </thead>\n",
       "  <tbody>\n",
       "    <tr>\n",
       "      <th>0</th>\n",
       "      <td>6</td>\n",
       "      <td>148</td>\n",
       "      <td>72</td>\n",
       "      <td>35</td>\n",
       "      <td>0</td>\n",
       "      <td>33.6</td>\n",
       "      <td>0.627</td>\n",
       "      <td>50</td>\n",
       "      <td>1</td>\n",
       "    </tr>\n",
       "    <tr>\n",
       "      <th>1</th>\n",
       "      <td>1</td>\n",
       "      <td>85</td>\n",
       "      <td>66</td>\n",
       "      <td>29</td>\n",
       "      <td>0</td>\n",
       "      <td>26.6</td>\n",
       "      <td>0.351</td>\n",
       "      <td>31</td>\n",
       "      <td>0</td>\n",
       "    </tr>\n",
       "    <tr>\n",
       "      <th>2</th>\n",
       "      <td>8</td>\n",
       "      <td>183</td>\n",
       "      <td>64</td>\n",
       "      <td>0</td>\n",
       "      <td>0</td>\n",
       "      <td>23.3</td>\n",
       "      <td>0.672</td>\n",
       "      <td>32</td>\n",
       "      <td>1</td>\n",
       "    </tr>\n",
       "    <tr>\n",
       "      <th>3</th>\n",
       "      <td>1</td>\n",
       "      <td>89</td>\n",
       "      <td>66</td>\n",
       "      <td>23</td>\n",
       "      <td>94</td>\n",
       "      <td>28.1</td>\n",
       "      <td>0.167</td>\n",
       "      <td>21</td>\n",
       "      <td>0</td>\n",
       "    </tr>\n",
       "    <tr>\n",
       "      <th>4</th>\n",
       "      <td>0</td>\n",
       "      <td>137</td>\n",
       "      <td>40</td>\n",
       "      <td>35</td>\n",
       "      <td>168</td>\n",
       "      <td>43.1</td>\n",
       "      <td>2.288</td>\n",
       "      <td>33</td>\n",
       "      <td>1</td>\n",
       "    </tr>\n",
       "  </tbody>\n",
       "</table>\n",
       "</div>"
      ],
      "text/plain": [
       "   Pregnancies  Glucose  BloodPressure  SkinThickness  Insulin   BMI  \\\n",
       "0            6      148             72             35        0  33.6   \n",
       "1            1       85             66             29        0  26.6   \n",
       "2            8      183             64              0        0  23.3   \n",
       "3            1       89             66             23       94  28.1   \n",
       "4            0      137             40             35      168  43.1   \n",
       "\n",
       "   DiabetesPedigreeFunction  Age  Outcome  \n",
       "0                     0.627   50        1  \n",
       "1                     0.351   31        0  \n",
       "2                     0.672   32        1  \n",
       "3                     0.167   21        0  \n",
       "4                     2.288   33        1  "
      ]
     },
     "execution_count": 2,
     "metadata": {},
     "output_type": "execute_result"
    }
   ],
   "source": [
    "# read the dataset\n",
    "data = pd.read_csv('diabetes.csv')\n",
    "\n",
    "# print the head of the dataset\n",
    "data.head()"
   ]
  },
  {
   "cell_type": "code",
   "execution_count": 3,
   "id": "pointed-injection",
   "metadata": {},
   "outputs": [
    {
     "name": "stdout",
     "output_type": "stream",
     "text": [
      "The dataset consists of 768 observations and 9 attributes\n"
     ]
    }
   ],
   "source": [
    "# number of attributes and observations \n",
    "observations, attributes = data.shape \n",
    "print('The dataset consists of', observations, 'observations', 'and', attributes, 'attributes') "
   ]
  },
  {
   "cell_type": "code",
   "execution_count": 4,
   "id": "imposed-administrator",
   "metadata": {},
   "outputs": [
    {
     "data": {
      "text/plain": [
       "Pregnancies                 0\n",
       "Glucose                     0\n",
       "BloodPressure               0\n",
       "SkinThickness               0\n",
       "Insulin                     0\n",
       "BMI                         0\n",
       "DiabetesPedigreeFunction    0\n",
       "Age                         0\n",
       "Outcome                     0\n",
       "dtype: int64"
      ]
     },
     "execution_count": 4,
     "metadata": {},
     "output_type": "execute_result"
    }
   ],
   "source": [
    "# Checking whether there is missing data or not\n",
    "data.isnull().sum()"
   ]
  },
  {
   "cell_type": "code",
   "execution_count": 5,
   "id": "composite-dressing",
   "metadata": {},
   "outputs": [
    {
     "name": "stderr",
     "output_type": "stream",
     "text": [
      "C:\\Users\\nazan\\AppData\\Local\\Packages\\PythonSoftwareFoundation.Python.3.9_qbz5n2kfra8p0\\LocalCache\\local-packages\\Python39\\site-packages\\seaborn\\_decorators.py:36: FutureWarning: Pass the following variable as a keyword arg: x. From version 0.12, the only valid positional argument will be `data`, and passing other arguments without an explicit keyword will result in an error or misinterpretation.\n",
      "  warnings.warn(\n"
     ]
    },
    {
     "data": {
      "text/plain": [
       "<AxesSubplot:xlabel='Outcome', ylabel='count'>"
      ]
     },
     "execution_count": 5,
     "metadata": {},
     "output_type": "execute_result"
    },
    {
     "data": {
      "image/png": "[encoded data removed]",
      "text/plain": [
       "<Figure size 432x288 with 1 Axes>"
      ]
     },
     "metadata": {
      "needs_background": "light"
     },
     "output_type": "display_data"
    }
   ],
   "source": [
    "sns.countplot(data.iloc[:,-1])"
   ]
  },
  {
   "cell_type": "code",
   "execution_count": 6,
   "id": "subject-guide",
   "metadata": {},
   "outputs": [
    {
     "name": "stdout",
     "output_type": "stream",
     "text": [
      "Class Ratio: 34.89583333333326\n"
     ]
    }
   ],
   "source": [
    "print('Class Ratio:', (sum(data['Outcome']/len(data['Outcome'])))*100)"
   ]
  },
  {
   "cell_type": "markdown",
   "id": "lucky-helen",
   "metadata": {},
   "source": [
    "Based on the figuer, most of the targets are in class 0 (non-Diabetes). Moreover, 34.90% of the data are from class 1. If random sampling is used, the accuracy score will not be appropriate because the the training set will not present the whole of the dataset. It is better to use stratified sampling to have trainig set whcih presents the whole of the dataset. "
   ]
  },
  {
   "cell_type": "markdown",
   "id": "protected-tolerance",
   "metadata": {},
   "source": [
    "#### data scaling "
   ]
  },
  {
   "cell_type": "code",
   "execution_count": 7,
   "id": "extended-demonstration",
   "metadata": {},
   "outputs": [
    {
     "data": {
      "text/html": [
       "<div>\n",
       "<style scoped>\n",
       "    .dataframe tbody tr th:only-of-type {\n",
       "        vertical-align: middle;\n",
       "    }\n",
       "\n",
       "    .dataframe tbody tr th {\n",
       "        vertical-align: top;\n",
       "    }\n",
       "\n",
       "    .dataframe thead th {\n",
       "        text-align: right;\n",
       "    }\n",
       "</style>\n",
       "<table border=\"1\" class=\"dataframe\">\n",
       "  <thead>\n",
       "    <tr style=\"text-align: right;\">\n",
       "      <th></th>\n",
       "      <th>Pregnancies</th>\n",
       "      <th>Glucose</th>\n",
       "      <th>BloodPressure</th>\n",
       "      <th>SkinThickness</th>\n",
       "      <th>Insulin</th>\n",
       "      <th>BMI</th>\n",
       "      <th>DiabetesPedigreeFunction</th>\n",
       "      <th>Age</th>\n",
       "      <th>Outcome</th>\n",
       "    </tr>\n",
       "  </thead>\n",
       "  <tbody>\n",
       "    <tr>\n",
       "      <th>count</th>\n",
       "      <td>768.000000</td>\n",
       "      <td>768.000000</td>\n",
       "      <td>768.000000</td>\n",
       "      <td>768.000000</td>\n",
       "      <td>768.000000</td>\n",
       "      <td>768.000000</td>\n",
       "      <td>768.000000</td>\n",
       "      <td>768.000000</td>\n",
       "      <td>768.000000</td>\n",
       "    </tr>\n",
       "    <tr>\n",
       "      <th>mean</th>\n",
       "      <td>3.845052</td>\n",
       "      <td>120.894531</td>\n",
       "      <td>69.105469</td>\n",
       "      <td>20.536458</td>\n",
       "      <td>79.799479</td>\n",
       "      <td>31.992578</td>\n",
       "      <td>0.471876</td>\n",
       "      <td>33.240885</td>\n",
       "      <td>0.348958</td>\n",
       "    </tr>\n",
       "    <tr>\n",
       "      <th>std</th>\n",
       "      <td>3.369578</td>\n",
       "      <td>31.972618</td>\n",
       "      <td>19.355807</td>\n",
       "      <td>15.952218</td>\n",
       "      <td>115.244002</td>\n",
       "      <td>7.884160</td>\n",
       "      <td>0.331329</td>\n",
       "      <td>11.760232</td>\n",
       "      <td>0.476951</td>\n",
       "    </tr>\n",
       "    <tr>\n",
       "      <th>min</th>\n",
       "      <td>0.000000</td>\n",
       "      <td>0.000000</td>\n",
       "      <td>0.000000</td>\n",
       "      <td>0.000000</td>\n",
       "      <td>0.000000</td>\n",
       "      <td>0.000000</td>\n",
       "      <td>0.078000</td>\n",
       "      <td>21.000000</td>\n",
       "      <td>0.000000</td>\n",
       "    </tr>\n",
       "    <tr>\n",
       "      <th>25%</th>\n",
       "      <td>1.000000</td>\n",
       "      <td>99.000000</td>\n",
       "      <td>62.000000</td>\n",
       "      <td>0.000000</td>\n",
       "      <td>0.000000</td>\n",
       "      <td>27.300000</td>\n",
       "      <td>0.243750</td>\n",
       "      <td>24.000000</td>\n",
       "      <td>0.000000</td>\n",
       "    </tr>\n",
       "    <tr>\n",
       "      <th>50%</th>\n",
       "      <td>3.000000</td>\n",
       "      <td>117.000000</td>\n",
       "      <td>72.000000</td>\n",
       "      <td>23.000000</td>\n",
       "      <td>30.500000</td>\n",
       "      <td>32.000000</td>\n",
       "      <td>0.372500</td>\n",
       "      <td>29.000000</td>\n",
       "      <td>0.000000</td>\n",
       "    </tr>\n",
       "    <tr>\n",
       "      <th>75%</th>\n",
       "      <td>6.000000</td>\n",
       "      <td>140.250000</td>\n",
       "      <td>80.000000</td>\n",
       "      <td>32.000000</td>\n",
       "      <td>127.250000</td>\n",
       "      <td>36.600000</td>\n",
       "      <td>0.626250</td>\n",
       "      <td>41.000000</td>\n",
       "      <td>1.000000</td>\n",
       "    </tr>\n",
       "    <tr>\n",
       "      <th>max</th>\n",
       "      <td>17.000000</td>\n",
       "      <td>199.000000</td>\n",
       "      <td>122.000000</td>\n",
       "      <td>99.000000</td>\n",
       "      <td>846.000000</td>\n",
       "      <td>67.100000</td>\n",
       "      <td>2.420000</td>\n",
       "      <td>81.000000</td>\n",
       "      <td>1.000000</td>\n",
       "    </tr>\n",
       "  </tbody>\n",
       "</table>\n",
       "</div>"
      ],
      "text/plain": [
       "       Pregnancies     Glucose  BloodPressure  SkinThickness     Insulin  \\\n",
       "count   768.000000  768.000000     768.000000     768.000000  768.000000   \n",
       "mean      3.845052  120.894531      69.105469      20.536458   79.799479   \n",
       "std       3.369578   31.972618      19.355807      15.952218  115.244002   \n",
       "min       0.000000    0.000000       0.000000       0.000000    0.000000   \n",
       "25%       1.000000   99.000000      62.000000       0.000000    0.000000   \n",
       "50%       3.000000  117.000000      72.000000      23.000000   30.500000   \n",
       "75%       6.000000  140.250000      80.000000      32.000000  127.250000   \n",
       "max      17.000000  199.000000     122.000000      99.000000  846.000000   \n",
       "\n",
       "              BMI  DiabetesPedigreeFunction         Age     Outcome  \n",
       "count  768.000000                768.000000  768.000000  768.000000  \n",
       "mean    31.992578                  0.471876   33.240885    0.348958  \n",
       "std      7.884160                  0.331329   11.760232    0.476951  \n",
       "min      0.000000                  0.078000   21.000000    0.000000  \n",
       "25%     27.300000                  0.243750   24.000000    0.000000  \n",
       "50%     32.000000                  0.372500   29.000000    0.000000  \n",
       "75%     36.600000                  0.626250   41.000000    1.000000  \n",
       "max     67.100000                  2.420000   81.000000    1.000000  "
      ]
     },
     "execution_count": 7,
     "metadata": {},
     "output_type": "execute_result"
    }
   ],
   "source": [
    "data.describe()"
   ]
  },
  {
   "cell_type": "markdown",
   "id": "rising-boulder",
   "metadata": {},
   "source": [
    "Because the min, max, mean of the features are vary. It is better to standard the scale of the features. \n",
    "For this we used normalization becasue we don't have a idea of the distribution of data in KNN algorithm."
   ]
  },
  {
   "cell_type": "markdown",
   "id": "rough-individual",
   "metadata": {},
   "source": [
    "First, demostrate X and y"
   ]
  },
  {
   "cell_type": "code",
   "execution_count": 8,
   "id": "russian-receipt",
   "metadata": {},
   "outputs": [],
   "source": [
    "X = data.iloc[:,:-1]\n",
    "y = data.iloc[:,-1]"
   ]
  },
  {
   "cell_type": "code",
   "execution_count": 9,
   "id": "moderate-accessory",
   "metadata": {},
   "outputs": [],
   "source": [
    "# Normalize the features \n",
    "norm = MinMaxScaler()\n",
    "X = norm.fit_transform(X)"
   ]
  },
  {
   "cell_type": "markdown",
   "id": "several-redhead",
   "metadata": {},
   "source": [
    "In the code below, you can see that every fold in stratified method has the same ratio "
   ]
  },
  {
   "cell_type": "code",
   "execution_count": 10,
   "id": "neither-authentication",
   "metadata": {},
   "outputs": [],
   "source": [
    "# Apply StraifiedKfold\n",
    "# If shuffle is set to True, then the splitting will be random\n",
    "# If shuffle is set to False, consecutive folds will be the shifted version of previous folds\n",
    "# If we want the splits to be reproducible, we also need to pass in an integer to random_state parameter\n",
    "skf = StratifiedKFold(n_splits=5, shuffle=True, random_state=1)"
   ]
  },
  {
   "cell_type": "code",
   "execution_count": 11,
   "id": "conventional-daniel",
   "metadata": {},
   "outputs": [
    {
     "name": "stdout",
     "output_type": "stream",
     "text": [
      "Fold 1 , class ratio: 34.85\n",
      "Fold 2 , class ratio: 34.85\n",
      "Fold 3 , class ratio: 34.85\n",
      "Fold 4 , class ratio: 34.96\n",
      "Fold 5 , class ratio: 34.96\n"
     ]
    }
   ],
   "source": [
    "fold_num = 1\n",
    "for train_index, test_index in skf.split(X,y):\n",
    "    X_train, X_test = X[train_index], X[test_index]\n",
    "    y_train, y_test = y[train_index], y[test_index]\n",
    "    print('Fold %0.0f , class ratio: %0.2f'%(fold_num,(sum(y_train/len(y_train)))*100))\n",
    "    fold_num += 1"
   ]
  },
  {
   "cell_type": "markdown",
   "id": "virtual-traveler",
   "metadata": {},
   "source": [
    "### Choosing a K Value"
   ]
  },
  {
   "cell_type": "code",
   "execution_count": 12,
   "id": "northern-spelling",
   "metadata": {},
   "outputs": [],
   "source": [
    "n_neighbors = np.arange(1,70)\n",
    "error_rate = np.empty(len(n_neighbors))\n",
    "train_accuracy = np.empty(len(n_neighbors))\n",
    "test_accuracy = np.empty(len(n_neighbors))\n",
    "\n",
    "# defined a range for K\n",
    "\n",
    "for i,k in enumerate(n_neighbors):\n",
    "    knn = KNeighborsClassifier(n_neighbors = k)\n",
    "    knn.fit(X_train, y_train)\n",
    "    y_pred = knn.predict(X_test)\n",
    "    \n",
    "    # Compute error \n",
    "    error_rate[i] = (np.mean(y_pred != y_test))\n",
    "    \n",
    "    # Compute accuracy on the training set\n",
    "    train_accuracy[i] = knn.score(X_train, y_train)\n",
    "    \n",
    "    # Computr accuracy on the test set\n",
    "    test_accuracy[i] = knn.score(X_test, y_test)"
   ]
  },
  {
   "cell_type": "markdown",
   "id": "honest-photography",
   "metadata": {},
   "source": [
    "Plot a Line graph of the error rate:"
   ]
  },
  {
   "cell_type": "code",
   "execution_count": 13,
   "id": "complicated-signal",
   "metadata": {},
   "outputs": [
    {
     "data": {
      "text/plain": [
       "Text(0.5, 1.0, 'Error Rate vs. K Value')"
      ]
     },
     "execution_count": 13,
     "metadata": {},
     "output_type": "execute_result"
    },
    {
     "data": {
      "image/png": "[encoded data removed]",
      "text/plain": [
       "<Figure size 432x288 with 1 Axes>"
      ]
     },
     "metadata": {
      "needs_background": "light"
     },
     "output_type": "display_data"
    }
   ],
   "source": [
    "plt.plot(n_neighbors, error_rate, color = 'blue', linestyle = 'dashed', marker = 'o', markerfacecolor='red', markersize = 5)\n",
    "plt.xlabel('Number of neighbors (K)')\n",
    "plt.ylabel('Error Rate')\n",
    "plt.title('Error Rate vs. K Value')"
   ]
  },
  {
   "cell_type": "code",
   "execution_count": 14,
   "id": "formed-event",
   "metadata": {},
   "outputs": [
    {
     "data": {
      "text/plain": [
       "<matplotlib.legend.Legend at 0x2026556cbb0>"
      ]
     },
     "execution_count": 14,
     "metadata": {},
     "output_type": "execute_result"
    },
    {
     "data": {
      "image/png": "[encoded data removed]",
      "text/plain": [
       "<Figure size 432x288 with 1 Axes>"
      ]
     },
     "metadata": {
      "needs_background": "light"
     },
     "output_type": "display_data"
    }
   ],
   "source": [
    "plt.plot(n_neighbors, test_accuracy, label= \"Testing Accuracy\")\n",
    "plt.plot(n_neighbors, train_accuracy, label= \"Training Accuracy\")\n",
    "plt.xlabel(\"Number of Neighbors\")\n",
    "plt.ylabel(\"Accuracy\")\n",
    "plt.title(\"Accuracy vs. K value\")\n",
    "plt.legend()"
   ]
  },
  {
   "cell_type": "markdown",
   "id": "knowing-investigation",
   "metadata": {},
   "source": [
    "Here we can see that K ~ 43 has lower error, and after that the error rate will increase again. \n",
    "Instead of find a K value with for loop, we could find it with module name Gridsearch. Also, other parameters like weights, distances, and algorithm will effect on finding a optimum value of K. "
   ]
  },
  {
   "cell_type": "code",
   "execution_count": 26,
   "id": "korean-nitrogen",
   "metadata": {},
   "outputs": [
    {
     "name": "stdout",
     "output_type": "stream",
     "text": [
      "Fitting 5 folds for each of 234 candidates, totalling 1170 fits\n"
     ]
    },
    {
     "data": {
      "text/plain": [
       "GridSearchCV(cv=5, estimator=KNeighborsClassifier(),\n",
       "             param_grid={'n_neighbors': [1, 2, 3, 4, 5, 6, 7, 8, 9, 10, 11, 12,\n",
       "                                         13, 14, 15, 16, 17, 18, 19, 20, 21, 22,\n",
       "                                         23, 24, 25, 26, 27, 28, 29, 30, ...],\n",
       "                         'p': [1, 2, 3], 'weights': ['uniform', 'distance']},\n",
       "             scoring='average_precision', verbose=1)"
      ]
     },
     "execution_count": 26,
     "metadata": {},
     "output_type": "execute_result"
    }
   ],
   "source": [
    "# Apply Gridsearch to findn the optimum prameters (number of neighbors and distance)\n",
    "param_grid = {'n_neighbors': list(range(1,40)),'p':[1,2,3], 'weights':['uniform','distance']}\n",
    "knn2 = KNeighborsClassifier()\n",
    "gs = GridSearchCV(knn2,param_grid, scoring='average_precision', cv=5,verbose=1)\n",
    "gs.fit(X_train, y_train)"
   ]
  },
  {
   "cell_type": "code",
   "execution_count": 27,
   "id": "standing-jenny",
   "metadata": {},
   "outputs": [
    {
     "name": "stdout",
     "output_type": "stream",
     "text": [
      "Best Score: 0.734 \n",
      "Best Parameters:  {'n_neighbors': 34, 'p': 1, 'weights': 'distance'}\n"
     ]
    }
   ],
   "source": [
    "print(\"Best Score: %.3f\" % gs.best_score_, '\\nBest Parameters: ', gs.best_params_)"
   ]
  },
  {
   "cell_type": "code",
   "execution_count": 28,
   "id": "enclosed-medicare",
   "metadata": {},
   "outputs": [
    {
     "name": "stdout",
     "output_type": "stream",
     "text": [
      "Test Score: 0.671\n"
     ]
    }
   ],
   "source": [
    "print('Test Score: %.3f' % gs.score(X_test, y_test))"
   ]
  },
  {
   "cell_type": "code",
   "execution_count": 29,
   "id": "unauthorized-cigarette",
   "metadata": {},
   "outputs": [],
   "source": [
    "knn2 = KNeighborsClassifier(n_neighbors= gs.best_params_.get('n_neighbors'), p = gs.best_params_.get('p'), weights=gs.best_params_.get('weights'))\n",
    "knn2.fit(X_train, y_train)\n",
    "y_pred2 = knn.predict(X_test)"
   ]
  },
  {
   "cell_type": "code",
   "execution_count": 30,
   "id": "critical-variable",
   "metadata": {},
   "outputs": [
    {
     "name": "stdout",
     "output_type": "stream",
     "text": [
      "The accuracy on test data for p= 1 and K= 34 is: 0.71\n"
     ]
    }
   ],
   "source": [
    "print(\"The accuracy on test data for p=\", gs.best_params_.get('p') ,'and K=', gs.best_params_.get('n_neighbors'), \"is: %.2f\" %accuracy_score(y_test, y_pred2))"
   ]
  },
  {
   "cell_type": "code",
   "execution_count": 31,
   "id": "loaded-advice",
   "metadata": {},
   "outputs": [
    {
     "data": {
      "text/html": [
       "<div>\n",
       "<style scoped>\n",
       "    .dataframe tbody tr th:only-of-type {\n",
       "        vertical-align: middle;\n",
       "    }\n",
       "\n",
       "    .dataframe tbody tr th {\n",
       "        vertical-align: top;\n",
       "    }\n",
       "\n",
       "    .dataframe thead th {\n",
       "        text-align: right;\n",
       "    }\n",
       "</style>\n",
       "<table border=\"1\" class=\"dataframe\">\n",
       "  <thead>\n",
       "    <tr style=\"text-align: right;\">\n",
       "      <th></th>\n",
       "      <th>n_neighbors</th>\n",
       "      <th>p</th>\n",
       "      <th>weights</th>\n",
       "      <th>Accuracy</th>\n",
       "    </tr>\n",
       "  </thead>\n",
       "  <tbody>\n",
       "    <tr>\n",
       "      <th>194</th>\n",
       "      <td>33</td>\n",
       "      <td>2</td>\n",
       "      <td>uniform</td>\n",
       "      <td>0.703989</td>\n",
       "    </tr>\n",
       "    <tr>\n",
       "      <th>195</th>\n",
       "      <td>33</td>\n",
       "      <td>2</td>\n",
       "      <td>distance</td>\n",
       "      <td>0.720785</td>\n",
       "    </tr>\n",
       "    <tr>\n",
       "      <th>196</th>\n",
       "      <td>33</td>\n",
       "      <td>3</td>\n",
       "      <td>uniform</td>\n",
       "      <td>0.705180</td>\n",
       "    </tr>\n",
       "    <tr>\n",
       "      <th>197</th>\n",
       "      <td>33</td>\n",
       "      <td>3</td>\n",
       "      <td>distance</td>\n",
       "      <td>0.723786</td>\n",
       "    </tr>\n",
       "    <tr>\n",
       "      <th>198</th>\n",
       "      <td>34</td>\n",
       "      <td>1</td>\n",
       "      <td>uniform</td>\n",
       "      <td>0.720186</td>\n",
       "    </tr>\n",
       "    <tr>\n",
       "      <th>199</th>\n",
       "      <td>34</td>\n",
       "      <td>1</td>\n",
       "      <td>distance</td>\n",
       "      <td>0.733905</td>\n",
       "    </tr>\n",
       "    <tr>\n",
       "      <th>200</th>\n",
       "      <td>34</td>\n",
       "      <td>2</td>\n",
       "      <td>uniform</td>\n",
       "      <td>0.708261</td>\n",
       "    </tr>\n",
       "    <tr>\n",
       "      <th>201</th>\n",
       "      <td>34</td>\n",
       "      <td>2</td>\n",
       "      <td>distance</td>\n",
       "      <td>0.723663</td>\n",
       "    </tr>\n",
       "    <tr>\n",
       "      <th>202</th>\n",
       "      <td>34</td>\n",
       "      <td>3</td>\n",
       "      <td>uniform</td>\n",
       "      <td>0.706761</td>\n",
       "    </tr>\n",
       "    <tr>\n",
       "      <th>203</th>\n",
       "      <td>34</td>\n",
       "      <td>3</td>\n",
       "      <td>distance</td>\n",
       "      <td>0.722997</td>\n",
       "    </tr>\n",
       "    <tr>\n",
       "      <th>204</th>\n",
       "      <td>35</td>\n",
       "      <td>1</td>\n",
       "      <td>uniform</td>\n",
       "      <td>0.715551</td>\n",
       "    </tr>\n",
       "    <tr>\n",
       "      <th>205</th>\n",
       "      <td>35</td>\n",
       "      <td>1</td>\n",
       "      <td>distance</td>\n",
       "      <td>0.732055</td>\n",
       "    </tr>\n",
       "    <tr>\n",
       "      <th>206</th>\n",
       "      <td>35</td>\n",
       "      <td>2</td>\n",
       "      <td>uniform</td>\n",
       "      <td>0.708375</td>\n",
       "    </tr>\n",
       "    <tr>\n",
       "      <th>207</th>\n",
       "      <td>35</td>\n",
       "      <td>2</td>\n",
       "      <td>distance</td>\n",
       "      <td>0.724528</td>\n",
       "    </tr>\n",
       "    <tr>\n",
       "      <th>208</th>\n",
       "      <td>35</td>\n",
       "      <td>3</td>\n",
       "      <td>uniform</td>\n",
       "      <td>0.705279</td>\n",
       "    </tr>\n",
       "    <tr>\n",
       "      <th>209</th>\n",
       "      <td>35</td>\n",
       "      <td>3</td>\n",
       "      <td>distance</td>\n",
       "      <td>0.724689</td>\n",
       "    </tr>\n",
       "    <tr>\n",
       "      <th>210</th>\n",
       "      <td>36</td>\n",
       "      <td>1</td>\n",
       "      <td>uniform</td>\n",
       "      <td>0.717271</td>\n",
       "    </tr>\n",
       "    <tr>\n",
       "      <th>211</th>\n",
       "      <td>36</td>\n",
       "      <td>1</td>\n",
       "      <td>distance</td>\n",
       "      <td>0.726547</td>\n",
       "    </tr>\n",
       "    <tr>\n",
       "      <th>212</th>\n",
       "      <td>36</td>\n",
       "      <td>2</td>\n",
       "      <td>uniform</td>\n",
       "      <td>0.712648</td>\n",
       "    </tr>\n",
       "    <tr>\n",
       "      <th>213</th>\n",
       "      <td>36</td>\n",
       "      <td>2</td>\n",
       "      <td>distance</td>\n",
       "      <td>0.728743</td>\n",
       "    </tr>\n",
       "    <tr>\n",
       "      <th>214</th>\n",
       "      <td>36</td>\n",
       "      <td>3</td>\n",
       "      <td>uniform</td>\n",
       "      <td>0.707762</td>\n",
       "    </tr>\n",
       "    <tr>\n",
       "      <th>215</th>\n",
       "      <td>36</td>\n",
       "      <td>3</td>\n",
       "      <td>distance</td>\n",
       "      <td>0.726665</td>\n",
       "    </tr>\n",
       "    <tr>\n",
       "      <th>216</th>\n",
       "      <td>37</td>\n",
       "      <td>1</td>\n",
       "      <td>uniform</td>\n",
       "      <td>0.711859</td>\n",
       "    </tr>\n",
       "    <tr>\n",
       "      <th>217</th>\n",
       "      <td>37</td>\n",
       "      <td>1</td>\n",
       "      <td>distance</td>\n",
       "      <td>0.726789</td>\n",
       "    </tr>\n",
       "    <tr>\n",
       "      <th>218</th>\n",
       "      <td>37</td>\n",
       "      <td>2</td>\n",
       "      <td>uniform</td>\n",
       "      <td>0.717120</td>\n",
       "    </tr>\n",
       "    <tr>\n",
       "      <th>219</th>\n",
       "      <td>37</td>\n",
       "      <td>2</td>\n",
       "      <td>distance</td>\n",
       "      <td>0.731521</td>\n",
       "    </tr>\n",
       "    <tr>\n",
       "      <th>220</th>\n",
       "      <td>37</td>\n",
       "      <td>3</td>\n",
       "      <td>uniform</td>\n",
       "      <td>0.708035</td>\n",
       "    </tr>\n",
       "    <tr>\n",
       "      <th>221</th>\n",
       "      <td>37</td>\n",
       "      <td>3</td>\n",
       "      <td>distance</td>\n",
       "      <td>0.726186</td>\n",
       "    </tr>\n",
       "    <tr>\n",
       "      <th>222</th>\n",
       "      <td>38</td>\n",
       "      <td>1</td>\n",
       "      <td>uniform</td>\n",
       "      <td>0.713091</td>\n",
       "    </tr>\n",
       "    <tr>\n",
       "      <th>223</th>\n",
       "      <td>38</td>\n",
       "      <td>1</td>\n",
       "      <td>distance</td>\n",
       "      <td>0.724845</td>\n",
       "    </tr>\n",
       "    <tr>\n",
       "      <th>224</th>\n",
       "      <td>38</td>\n",
       "      <td>2</td>\n",
       "      <td>uniform</td>\n",
       "      <td>0.715519</td>\n",
       "    </tr>\n",
       "    <tr>\n",
       "      <th>225</th>\n",
       "      <td>38</td>\n",
       "      <td>2</td>\n",
       "      <td>distance</td>\n",
       "      <td>0.729519</td>\n",
       "    </tr>\n",
       "    <tr>\n",
       "      <th>226</th>\n",
       "      <td>38</td>\n",
       "      <td>3</td>\n",
       "      <td>uniform</td>\n",
       "      <td>0.702212</td>\n",
       "    </tr>\n",
       "    <tr>\n",
       "      <th>227</th>\n",
       "      <td>38</td>\n",
       "      <td>3</td>\n",
       "      <td>distance</td>\n",
       "      <td>0.720124</td>\n",
       "    </tr>\n",
       "    <tr>\n",
       "      <th>228</th>\n",
       "      <td>39</td>\n",
       "      <td>1</td>\n",
       "      <td>uniform</td>\n",
       "      <td>0.708711</td>\n",
       "    </tr>\n",
       "    <tr>\n",
       "      <th>229</th>\n",
       "      <td>39</td>\n",
       "      <td>1</td>\n",
       "      <td>distance</td>\n",
       "      <td>0.724866</td>\n",
       "    </tr>\n",
       "    <tr>\n",
       "      <th>230</th>\n",
       "      <td>39</td>\n",
       "      <td>2</td>\n",
       "      <td>uniform</td>\n",
       "      <td>0.717952</td>\n",
       "    </tr>\n",
       "    <tr>\n",
       "      <th>231</th>\n",
       "      <td>39</td>\n",
       "      <td>2</td>\n",
       "      <td>distance</td>\n",
       "      <td>0.730468</td>\n",
       "    </tr>\n",
       "    <tr>\n",
       "      <th>232</th>\n",
       "      <td>39</td>\n",
       "      <td>3</td>\n",
       "      <td>uniform</td>\n",
       "      <td>0.701077</td>\n",
       "    </tr>\n",
       "    <tr>\n",
       "      <th>233</th>\n",
       "      <td>39</td>\n",
       "      <td>3</td>\n",
       "      <td>distance</td>\n",
       "      <td>0.725670</td>\n",
       "    </tr>\n",
       "  </tbody>\n",
       "</table>\n",
       "</div>"
      ],
      "text/plain": [
       "     n_neighbors  p   weights  Accuracy\n",
       "194           33  2   uniform  0.703989\n",
       "195           33  2  distance  0.720785\n",
       "196           33  3   uniform  0.705180\n",
       "197           33  3  distance  0.723786\n",
       "198           34  1   uniform  0.720186\n",
       "199           34  1  distance  0.733905\n",
       "200           34  2   uniform  0.708261\n",
       "201           34  2  distance  0.723663\n",
       "202           34  3   uniform  0.706761\n",
       "203           34  3  distance  0.722997\n",
       "204           35  1   uniform  0.715551\n",
       "205           35  1  distance  0.732055\n",
       "206           35  2   uniform  0.708375\n",
       "207           35  2  distance  0.724528\n",
       "208           35  3   uniform  0.705279\n",
       "209           35  3  distance  0.724689\n",
       "210           36  1   uniform  0.717271\n",
       "211           36  1  distance  0.726547\n",
       "212           36  2   uniform  0.712648\n",
       "213           36  2  distance  0.728743\n",
       "214           36  3   uniform  0.707762\n",
       "215           36  3  distance  0.726665\n",
       "216           37  1   uniform  0.711859\n",
       "217           37  1  distance  0.726789\n",
       "218           37  2   uniform  0.717120\n",
       "219           37  2  distance  0.731521\n",
       "220           37  3   uniform  0.708035\n",
       "221           37  3  distance  0.726186\n",
       "222           38  1   uniform  0.713091\n",
       "223           38  1  distance  0.724845\n",
       "224           38  2   uniform  0.715519\n",
       "225           38  2  distance  0.729519\n",
       "226           38  3   uniform  0.702212\n",
       "227           38  3  distance  0.720124\n",
       "228           39  1   uniform  0.708711\n",
       "229           39  1  distance  0.724866\n",
       "230           39  2   uniform  0.717952\n",
       "231           39  2  distance  0.730468\n",
       "232           39  3   uniform  0.701077\n",
       "233           39  3  distance  0.725670"
      ]
     },
     "execution_count": 31,
     "metadata": {},
     "output_type": "execute_result"
    }
   ],
   "source": [
    "# Tabulating the grid search\n",
    "# You can see the last 40 results\n",
    "pd.concat([pd.DataFrame(gs.cv_results_[\"params\"]),pd.DataFrame(gs.cv_results_[\"mean_test_score\"], columns=[\"Accuracy\"])],axis=1).tail(40)   "
   ]
  },
  {
   "cell_type": "markdown",
   "id": "fleet-naples",
   "metadata": {},
   "source": [
    "### Confusion Matrix"
   ]
  },
  {
   "cell_type": "markdown",
   "id": "champion-gambling",
   "metadata": {},
   "source": [
    "A Confusion is a table that describes the performance of a classification model. "
   ]
  },
  {
   "cell_type": "code",
   "execution_count": 32,
   "id": "significant-freight",
   "metadata": {},
   "outputs": [
    {
     "name": "stdout",
     "output_type": "stream",
     "text": [
      "The confusion matrix for p= 1 and K= 34 is: [[91  9]\n",
      " [35 18]]\n"
     ]
    }
   ],
   "source": [
    "print(\"The confusion matrix for p=\", gs.best_params_.get('p') ,'and K=', gs.best_params_.get('n_neighbors'), \"is:\", confusion_matrix(y_test, y_pred2))"
   ]
  },
  {
   "cell_type": "code",
   "execution_count": 33,
   "id": "returning-attack",
   "metadata": {},
   "outputs": [
    {
     "name": "stdout",
     "output_type": "stream",
     "text": [
      "              precision    recall  f1-score   support\n",
      "\n",
      "           0       0.72      0.91      0.81       100\n",
      "           1       0.67      0.34      0.45        53\n",
      "\n",
      "    accuracy                           0.71       153\n",
      "   macro avg       0.69      0.62      0.63       153\n",
      "weighted avg       0.70      0.71      0.68       153\n",
      "\n"
     ]
    }
   ],
   "source": [
    "print(classification_report(y_test, y_pred2))"
   ]
  },
  {
   "cell_type": "markdown",
   "id": "widespread-uncle",
   "metadata": {},
   "source": [
    "### ROC (Reciever Operating Charecteristics) curve"
   ]
  },
  {
   "cell_type": "markdown",
   "id": "generic-gospel",
   "metadata": {},
   "source": [
    "ROC curve is a plot of the True positive rate (Sensitivity) vs. the False positive rate (Specificity). The area under the curve (AUC) is a measure of test accuracy. "
   ]
  },
  {
   "cell_type": "code",
   "execution_count": 34,
   "id": "about-buffalo",
   "metadata": {},
   "outputs": [
    {
     "data": {
      "image/png": "[encoded data removed]",
      "text/plain": [
       "<Figure size 432x288 with 1 Axes>"
      ]
     },
     "metadata": {
      "needs_background": "light"
     },
     "output_type": "display_data"
    }
   ],
   "source": [
    "fold_num = 1\n",
    "fig, ax = plt.subplots()\n",
    "tprs = []\n",
    "aucs = []\n",
    "mean_fpr = np.linspace(0,1,100)\n",
    "\n",
    "for i, (train, test) in enumerate (skf.split(X,y)):\n",
    "    knn2.fit(X[train], y[train])\n",
    "    vis = plot_roc_curve(knn2, X[test], y[test], name = 'ROC Fold{}'.format(i),\n",
    "                        alpha = 0.3, lw = 1, ax = ax)\n",
    "    interp_tpr = np.interp(mean_fpr, vis.fpr, vis.tpr)\n",
    "    interp_tpr[0] = 0.0\n",
    "    tprs.append(interp_tpr)\n",
    "    aucs.append(vis.roc_auc)\n",
    "    \n",
    "ax.plot([0,1],[0,1], linestyle='--', lw=2,color='r', label='Chance',\n",
    "       alpha=0.8)\n",
    "\n",
    "mean_tpr = np.mean(tprs, axis=0)\n",
    "mean_tpr[-1] = 1.0\n",
    "mean_auc = auc(mean_fpr, mean_tpr)\n",
    "std_auc = np.std(aucs)\n",
    "ax.plot(mean_fpr, mean_tpr, color='b',\n",
    "        label=r'Mean ROC (AUC = %0.2f $\\pm$ %0.2f)' % (mean_auc, std_auc),\n",
    "        lw=2, alpha=.8)\n",
    "\n",
    "std_tpr = np.std(tprs, axis=0)\n",
    "tprs_upper = np.minimum(mean_tpr + std_tpr, 1)\n",
    "tprs_lower = np.maximum(mean_tpr - std_tpr, 0)\n",
    "ax.fill_between(mean_fpr, tprs_lower, tprs_upper, color='grey', alpha=.2,\n",
    "                label=r'$\\pm$ 1 std. dev.')\n",
    "\n",
    "ax.set(xlim=[-0.05, 1.05], ylim=[-0.05, 1.05],\n",
    "       title=\"Receiver operating characteristic example\")\n",
    "ax.legend(loc=\"lower right\")\n",
    "plt.savefig('plot.png')"
   ]
  }
 ],
 "metadata": {
  "kernelspec": {
   "display_name": "Python 3",
   "language": "python",
   "name": "python3"
  },
  "language_info": {
   "codemirror_mode": {
    "name": "ipython",
    "version": 3
   },
   "file_extension": ".py",
   "mimetype": "text/x-python",
   "name": "python",
   "nbconvert_exporter": "python",
   "pygments_lexer": "ipython3",
   "version": "3.9.2"
  }
 },
 "nbformat": 4,
 "nbformat_minor": 5
}
